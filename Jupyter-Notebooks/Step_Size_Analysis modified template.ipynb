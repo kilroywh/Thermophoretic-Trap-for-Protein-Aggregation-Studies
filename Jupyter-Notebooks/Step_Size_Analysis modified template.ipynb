{
 "cells": [
  {
   "cell_type": "markdown",
   "metadata": {},
   "source": [
    "# Step Size Analysis of a Amyloid Fibril in a Thermophoretic Trap \n",
    "\n",
    "Demonstration of the step size analysis for a β-Amyloid (Aβ<sub>40</sub>) fibril in a thermopheretic trap imaged by the fluorescence of thioflavin T (ThT). See the **Supplementary Notes 8 and 9** for details. \n",
    "\n",
    "Author(s): *Martin Fränzl*"
   ]
  },
  {
   "cell_type": "markdown",
   "metadata": {},
   "source": [
    "## Required packages"
   ]
  },
  {
   "cell_type": "code",
   "execution_count": 1,
   "metadata": {},
   "outputs": [],
   "source": [
    "import numpy as np\n",
    "pi = np.pi\n",
    "import matplotlib.pyplot as plt\n",
    "%matplotlib inline\n",
    "\n",
    "import codecs\n",
    "import os, glob\n",
    "import pandas as pd\n",
    "\n",
    "import trackpy as tp\n",
    "\n",
    "from scipy import stats\n",
    "from scipy.optimize import curve_fit\n",
    "\n",
    "plt.rcParams.update({'font.size': 18,\n",
    "                     'axes.titlesize': 20,\n",
    "                     'axes.labelsize': 20,\n",
    "                     'axes.labelpad': 14,\n",
    "                     'lines.linewidth': 3,\n",
    "                     'lines.markersize': 10,\n",
    "                     'xtick.labelsize' : 18,\n",
    "                     'ytick.labelsize' : 18,\n",
    "                     'xtick.top' : True,\n",
    "                     'xtick.direction' : 'in',\n",
    "                     'ytick.right' : True,\n",
    "                     'ytick.direction' : 'in',}) "
   ]
  },
  {
   "cell_type": "markdown",
   "metadata": {},
   "source": [
    "## Path to dataset"
   ]
  },
  {
   "cell_type": "code",
   "execution_count": 8,
   "metadata": {},
   "outputs": [],
   "source": [
    "path_to_data = r'C:\\Folderfile' #Pathfile where the measurementsfiles (csv or h5) are\n",
    "dataset = '\\Set01' #how the Dataset is called"
   ]
  },
  {
   "cell_type": "code",
   "execution_count": 9,
   "metadata": {},
   "outputs": [
    {
     "data": {
      "image/png": "[encoded data removed]",
      "text/plain": [
       "<IPython.core.display.Image object>"
      ]
     },
     "execution_count": 9,
     "metadata": {
      "image/png": {
       "width": 240
      }
     },
     "output_type": "execute_result"
    }
   ],
   "source": [
    "## Preview\n",
    "from IPython.display import Image\n",
    "\n",
    "Image(filename='Set_01.png', width=240) "
   ]
  },
  {
   "cell_type": "markdown",
   "metadata": {},
   "source": [
    "## Information about the sample preparation, experimental setup and the dataset"
   ]
  },
  {
   "cell_type": "code",
   "execution_count": 10,
   "metadata": {},
   "outputs": [
    {
     "name": "stdout",
     "output_type": "stream",
     "text": [
      "trapsize 15 mym\n",
      "\n",
      "exposure time 0,01s\n",
      "\n",
      "binning 2\n",
      "\n",
      "EM gain 100\n",
      "\n",
      "Ausschnitt 130 x 380\n",
      "\n",
      "trapping power 1,5 mW\n",
      "\n",
      "file size 1000 framws\n"
     ]
    }
   ],
   "source": [
    "with codecs.open(path_to_data + '\\Protocol.txt', 'r', encoding='utf-8') as f:\n",
    "    info = f.read()               \n",
    "print(info) #show the protocoll file"
   ]
  },
  {
   "cell_type": "markdown",
   "metadata": {},
   "source": [
    "## Useful functions"
   ]
  },
  {
   "cell_type": "code",
   "execution_count": 11,
   "metadata": {},
   "outputs": [],
   "source": [
    "def gauss(x, a, x0, sigma):\n",
    "    return a*np.exp(-(x-x0)**2/(2*sigma**2))"
   ]
  },
  {
   "cell_type": "code",
   "execution_count": 12,
   "metadata": {},
   "outputs": [],
   "source": [
    "def rayleigh(x, a, sigma):\n",
    "    return a*x*np.exp(-x**2/(2*sigma**2))/sigma**2"
   ]
  },
  {
   "cell_type": "markdown",
   "metadata": {},
   "source": [
    "## Load the tracking data and the metadata \n",
    "\n",
    "The fibril was tracked using the TrackerLab.py script and the tracking data as well as the metadata was stored in HDF5 files."
   ]
  },
  {
   "cell_type": "code",
   "execution_count": 13,
   "metadata": {},
   "outputs": [
    {
     "name": "stdout",
     "output_type": "stream",
     "text": [
      "Measurement_000_features.h5\n",
      "Measurement_001_features.h5\n",
      "Measurement_002_features.h5\n",
      "Measurement_003_features.h5\n",
      "Measurement_004_features.h5\n",
      "Measurement_005_features.h5\n",
      "Measurement_006_features.h5\n",
      "Measurement_007_features.h5\n",
      "Measurement_008_features.h5\n",
      "Measurement_009_features.h5\n",
      "Measurement_010_features.h5\n",
      "Measurement_011_features.h5\n",
      "Measurement_012_features.h5\n",
      "Measurement_013_features.h5\n",
      "Measurement_014_features.h5\n",
      "Measurement_015_features.h5\n",
      "Measurement_016_features.h5\n",
      "Measurement_017_features.h5\n",
      "Measurement_018_features.h5\n",
      "Measurement_019_features.h5\n",
      "Measurement_020_features.h5\n",
      "Measurement_021_features.h5\n",
      "Measurement_022_features.h5\n",
      "Measurement_023_features.h5\n",
      "Measurement_024_features.h5\n",
      "Measurement_025_features.h5\n",
      "Measurement_026_features.h5\n",
      "Measurement_027_features.h5\n",
      "Measurement_028_features.h5\n",
      "Measurement_029_features.h5\n",
      "Measurement_030_features.h5\n",
      "Measurement_031_features.h5\n",
      "Measurement_032_features.h5\n",
      "Measurement_033_features.h5\n",
      "Measurement_034_features.h5\n",
      "Measurement_035_features.h5\n",
      "Measurement_036_features.h5\n",
      "Measurement_037_features.h5\n",
      "Measurement_038_features.h5\n",
      "Measurement_039_features.h5\n",
      "Measurement_040_features.h5\n",
      "Measurement_041_features.h5\n",
      "Measurement_042_features.h5\n",
      "Measurement_043_features.h5\n",
      "Measurement_044_features.h5\n",
      "Measurement_045_features.h5\n",
      "Measurement_046_features.h5\n",
      "Measurement_047_features.h5\n",
      "Measurement_048_features.h5\n",
      "Measurement_049_features.h5\n",
      "Measurement_050_features.h5\n",
      "Measurement_051_features.h5\n",
      "Measurement_052_features.h5\n",
      "Measurement_053_features.h5\n",
      "Measurement_054_features.h5\n",
      "Measurement_055_features.h5\n",
      "Measurement_056_features.h5\n",
      "Measurement_057_features.h5\n",
      "Measurement_058_features.h5\n",
      "Measurement_059_features.h5\n",
      "Measurement_060_features.h5\n",
      "Measurement_061_features.h5\n",
      "Measurement_062_features.h5\n",
      "Measurement_063_features.h5\n",
      "Measurement_064_features.h5\n",
      "Measurement_065_features.h5\n",
      "Measurement_066_features.h5\n",
      "Measurement_067_features.h5\n",
      "Measurement_068_features.h5\n",
      "Measurement_069_features.h5\n",
      "Measurement_070_features.h5\n",
      "Measurement_071_features.h5\n",
      "Measurement_072_features.h5\n",
      "Measurement_073_features.h5\n",
      "Measurement_074_features.h5\n",
      "Measurement_075_features.h5\n",
      "Measurement_076_features.h5\n",
      "Measurement_077_features.h5\n",
      "Measurement_078_features.h5\n",
      "Measurement_079_features.h5\n",
      "Measurement_080_features.h5\n",
      "Measurement_081_features.h5\n",
      "Measurement_082_features.h5\n",
      "Measurement_083_features.h5\n",
      "Measurement_084_features.h5\n",
      "Measurement_085_features.h5\n",
      "Measurement_086_features.h5\n",
      "Measurement_087_features.h5\n",
      "Measurement_088_features.h5\n",
      "Measurement_089_features.h5\n",
      "Measurement_090_features.h5\n",
      "Measurement_091_features.h5\n",
      "Measurement_092_features.h5\n",
      "Measurement_093_features.h5\n",
      "Measurement_094_features.h5\n",
      "Measurement_095_features.h5\n",
      "Measurement_096_features.h5\n",
      "Measurement_097_features.h5\n",
      "Measurement_098_features.h5\n",
      "Measurement_099_features.h5\n",
      "Measurement_100_features.h5\n",
      "Measurement_101_features.h5\n",
      "Measurement_102_features.h5\n",
      "Measurement_103_features.h5\n",
      "Measurement_104_features.h5\n",
      "Measurement_105_features.h5\n",
      "Measurement_106_features.h5\n",
      "Measurement_107_features.h5\n",
      "Measurement_108_features.h5\n",
      "Measurement_109_features.h5\n",
      "Measurement_110_features.h5\n",
      "Measurement_111_features.h5\n",
      "Measurement_112_features.h5\n",
      "Measurement_113_features.h5\n",
      "Measurement_114_features.h5\n",
      "Measurement_115_features.h5\n",
      "Measurement_116_features.h5\n",
      "Measurement_117_features.h5\n",
      "Measurement_118_features.h5\n",
      "Measurement_119_features.h5\n",
      "Measurement_120_features.h5\n",
      "Measurement_121_features.h5\n"
     ]
    }
   ],
   "source": [
    "# List all *_feature.h5 files of the dataset\n",
    "for file in glob.glob(path_to_data + dataset + '*_features.h5'):\n",
    "    print(os.path.basename(file))"
   ]
  },
  {
   "cell_type": "markdown",
   "metadata": {},
   "source": [
    "### Load the metadata"
   ]
  },
  {
   "cell_type": "code",
   "execution_count": 16,
   "metadata": {},
   "outputs": [
    {
     "data": {
      "text/plain": [
       "{'dimx': 126,\n",
       " 'dimy': 126,\n",
       " 'frames': 1000,\n",
       " 'software_binning': 1,\n",
       " 'binning': 2,\n",
       " 'exposure': 0.01,\n",
       " 'median': 2,\n",
       " 'maskType': 'Circle',\n",
       " 'maskX': 1,\n",
       " 'maskY': 1,\n",
       " 'maskW': 124,\n",
       " 'maskH': 124,\n",
       " 'method': 'Connected-Component',\n",
       " 'tab1ThresholdSpinBox': 300,\n",
       " 'tab1MinAreaSpinBox': 2,\n",
       " 'tab1MaxAreaSpinBox': 1000,\n",
       " 'tab1InvertCheckBox': 0,\n",
       " 'tab1MaxFeaturesSpinBox': 1}"
      ]
     },
     "execution_count": 16,
     "metadata": {},
     "output_type": "execute_result"
    }
   ],
   "source": [
    "metadata = pd.read_hdf(path_to_data + dataset + '_features.h5', 'metadata').to_dict('records')[0]\n",
    "metadata"
   ]
  },
  {
   "cell_type": "code",
   "execution_count": 17,
   "metadata": {},
   "outputs": [],
   "source": [
    "for key, val in metadata.items(): #loop for converting dict key - pair values into variables with values\n",
    "        exec(key + '=val')"
   ]
  },
  {
   "cell_type": "code",
   "execution_count": 18,
   "metadata": {},
   "outputs": [],
   "source": [
    "scale = 0.0577*binning # See the Protocol.txt for details on the experimental setup"
   ]
  },
  {
   "cell_type": "markdown",
   "metadata": {},
   "source": [
    "### Load and concatenate the tracking data"
   ]
  },
  {
   "cell_type": "code",
   "execution_count": 19,
   "metadata": {},
   "outputs": [],
   "source": [
    "f = pd.DataFrame()\n",
    "features = pd.DataFrame()\n",
    "for i, file in enumerate(glob.glob(path_to_data + dataset + '*_features.h5')):\n",
    "    features = pd.read_hdf(file, 'features')\n",
    "    if i == 0:   \n",
    "        f = features\n",
    "    else:\n",
    "        features['frame'] += f['frame'].max()\n",
    "        f = f.append(features)"
   ]
  },
  {
   "cell_type": "code",
   "execution_count": 20,
   "metadata": {},
   "outputs": [
    {
     "data": {
      "text/html": [
       "<div>\n",
       "<style scoped>\n",
       "    .dataframe tbody tr th:only-of-type {\n",
       "        vertical-align: middle;\n",
       "    }\n",
       "\n",
       "    .dataframe tbody tr th {\n",
       "        vertical-align: top;\n",
       "    }\n",
       "\n",
       "    .dataframe thead th {\n",
       "        text-align: right;\n",
       "    }\n",
       "</style>\n",
       "<table border=\"1\" class=\"dataframe\">\n",
       "  <thead>\n",
       "    <tr style=\"text-align: right;\">\n",
       "      <th></th>\n",
       "      <th>y</th>\n",
       "      <th>x</th>\n",
       "      <th>y_weighted</th>\n",
       "      <th>x_weighted</th>\n",
       "      <th>orientation</th>\n",
       "      <th>minor_axis_length</th>\n",
       "      <th>major_axis_length</th>\n",
       "      <th>area</th>\n",
       "      <th>equivalent_diameter</th>\n",
       "      <th>filled_area</th>\n",
       "      <th>max_intensity</th>\n",
       "      <th>mean_intensity</th>\n",
       "      <th>eccentricity</th>\n",
       "      <th>frame</th>\n",
       "    </tr>\n",
       "  </thead>\n",
       "  <tbody>\n",
       "    <tr>\n",
       "      <td>0</td>\n",
       "      <td>55.138889</td>\n",
       "      <td>28.666667</td>\n",
       "      <td>55.072364</td>\n",
       "      <td>28.651576</td>\n",
       "      <td>-0.403456</td>\n",
       "      <td>4.088056</td>\n",
       "      <td>11.327510</td>\n",
       "      <td>36</td>\n",
       "      <td>6.770275</td>\n",
       "      <td>36</td>\n",
       "      <td>1085.0</td>\n",
       "      <td>551.611111</td>\n",
       "      <td>0.932606</td>\n",
       "      <td>999</td>\n",
       "    </tr>\n",
       "    <tr>\n",
       "      <td>0</td>\n",
       "      <td>56.438356</td>\n",
       "      <td>72.205479</td>\n",
       "      <td>56.512223</td>\n",
       "      <td>72.200179</td>\n",
       "      <td>1.173680</td>\n",
       "      <td>7.176187</td>\n",
       "      <td>13.265940</td>\n",
       "      <td>73</td>\n",
       "      <td>9.640876</td>\n",
       "      <td>73</td>\n",
       "      <td>1274.0</td>\n",
       "      <td>581.671233</td>\n",
       "      <td>0.841056</td>\n",
       "      <td>0</td>\n",
       "    </tr>\n",
       "    <tr>\n",
       "      <td>0</td>\n",
       "      <td>55.901961</td>\n",
       "      <td>72.705882</td>\n",
       "      <td>56.234326</td>\n",
       "      <td>72.519093</td>\n",
       "      <td>1.021414</td>\n",
       "      <td>4.981979</td>\n",
       "      <td>13.183280</td>\n",
       "      <td>51</td>\n",
       "      <td>8.058239</td>\n",
       "      <td>51</td>\n",
       "      <td>1711.0</td>\n",
       "      <td>801.549020</td>\n",
       "      <td>0.925846</td>\n",
       "      <td>1</td>\n",
       "    </tr>\n",
       "    <tr>\n",
       "      <td>0</td>\n",
       "      <td>57.423077</td>\n",
       "      <td>71.692308</td>\n",
       "      <td>57.613432</td>\n",
       "      <td>71.689450</td>\n",
       "      <td>0.732278</td>\n",
       "      <td>5.153471</td>\n",
       "      <td>13.143643</td>\n",
       "      <td>52</td>\n",
       "      <td>8.136858</td>\n",
       "      <td>52</td>\n",
       "      <td>1828.0</td>\n",
       "      <td>759.942308</td>\n",
       "      <td>0.919928</td>\n",
       "      <td>2</td>\n",
       "    </tr>\n",
       "    <tr>\n",
       "      <td>0</td>\n",
       "      <td>58.620000</td>\n",
       "      <td>71.400000</td>\n",
       "      <td>58.695176</td>\n",
       "      <td>71.311405</td>\n",
       "      <td>0.640343</td>\n",
       "      <td>5.068200</td>\n",
       "      <td>12.918318</td>\n",
       "      <td>50</td>\n",
       "      <td>7.978846</td>\n",
       "      <td>50</td>\n",
       "      <td>1330.0</td>\n",
       "      <td>711.100000</td>\n",
       "      <td>0.919826</td>\n",
       "      <td>3</td>\n",
       "    </tr>\n",
       "  </tbody>\n",
       "</table>\n",
       "</div>"
      ],
      "text/plain": [
       "           y          x  y_weighted  x_weighted  orientation  \\\n",
       "0  55.138889  28.666667   55.072364   28.651576    -0.403456   \n",
       "0  56.438356  72.205479   56.512223   72.200179     1.173680   \n",
       "0  55.901961  72.705882   56.234326   72.519093     1.021414   \n",
       "0  57.423077  71.692308   57.613432   71.689450     0.732278   \n",
       "0  58.620000  71.400000   58.695176   71.311405     0.640343   \n",
       "\n",
       "   minor_axis_length  major_axis_length  area  equivalent_diameter  \\\n",
       "0           4.088056          11.327510    36             6.770275   \n",
       "0           7.176187          13.265940    73             9.640876   \n",
       "0           4.981979          13.183280    51             8.058239   \n",
       "0           5.153471          13.143643    52             8.136858   \n",
       "0           5.068200          12.918318    50             7.978846   \n",
       "\n",
       "   filled_area  max_intensity  mean_intensity  eccentricity  frame  \n",
       "0           36         1085.0      551.611111      0.932606    999  \n",
       "0           73         1274.0      581.671233      0.841056      0  \n",
       "0           51         1711.0      801.549020      0.925846      1  \n",
       "0           52         1828.0      759.942308      0.919928      2  \n",
       "0           50         1330.0      711.100000      0.919826      3  "
      ]
     },
     "execution_count": 20,
     "metadata": {},
     "output_type": "execute_result"
    }
   ],
   "source": [
    "f.head()"
   ]
  },
  {
   "cell_type": "markdown",
   "metadata": {},
   "source": [
    "## Link trajectories\n",
    "\n",
    "Link the trajectories if there is no trajectories HDF5 file or if link is set true  "
   ]
  },
  {
   "cell_type": "code",
   "execution_count": 21,
   "metadata": {},
   "outputs": [
    {
     "name": "stdout",
     "output_type": "stream",
     "text": [
      "Frame 121877: 2 trajectories present.\n"
     ]
    }
   ],
   "source": [
    "link = False\n",
    "\n",
    "search_range = 25\n",
    "memory = 3\n",
    "\n",
    "if not os.path.exists(path_to_data + dataset + '_trajectories.h5') or link: \n",
    "    t = tp.link_df(f, search_range=search_range, memory=memory) # depending on the number of frames this may take a while\n",
    "    store = pd.HDFStore(path_to_data + dataset + '_trajectories.h5', 'w')\n",
    "    store.put('trajectories', t)\n",
    "    store.close()\n",
    "else:\n",
    "    with pd.HDFStore(path_to_data + dataset + '_trajectories.h5') as store:\n",
    "        t = store['trajectories']\n",
    "        store.close()"
   ]
  },
  {
   "cell_type": "markdown",
   "metadata": {},
   "source": [
    "\n",
    "## Filter trajectories"
   ]
  },
  {
   "cell_type": "markdown",
   "metadata": {},
   "source": [
    "Keep only trajectories that last for a given number of frames."
   ]
  },
  {
   "cell_type": "code",
   "execution_count": 35,
   "metadata": {},
   "outputs": [
    {
     "data": {
      "text/html": [
       "<div>\n",
       "<style scoped>\n",
       "    .dataframe tbody tr th:only-of-type {\n",
       "        vertical-align: middle;\n",
       "    }\n",
       "\n",
       "    .dataframe tbody tr th {\n",
       "        vertical-align: top;\n",
       "    }\n",
       "\n",
       "    .dataframe thead th {\n",
       "        text-align: right;\n",
       "    }\n",
       "</style>\n",
       "<table border=\"1\" class=\"dataframe\">\n",
       "  <thead>\n",
       "    <tr style=\"text-align: right;\">\n",
       "      <th></th>\n",
       "      <th>y</th>\n",
       "      <th>x</th>\n",
       "      <th>y_weighted</th>\n",
       "      <th>x_weighted</th>\n",
       "      <th>orientation</th>\n",
       "      <th>minor_axis_length</th>\n",
       "      <th>major_axis_length</th>\n",
       "      <th>area</th>\n",
       "      <th>equivalent_diameter</th>\n",
       "      <th>filled_area</th>\n",
       "      <th>max_intensity</th>\n",
       "      <th>mean_intensity</th>\n",
       "      <th>eccentricity</th>\n",
       "      <th>frame</th>\n",
       "      <th>particle</th>\n",
       "    </tr>\n",
       "    <tr>\n",
       "      <th>frame</th>\n",
       "      <th></th>\n",
       "      <th></th>\n",
       "      <th></th>\n",
       "      <th></th>\n",
       "      <th></th>\n",
       "      <th></th>\n",
       "      <th></th>\n",
       "      <th></th>\n",
       "      <th></th>\n",
       "      <th></th>\n",
       "      <th></th>\n",
       "      <th></th>\n",
       "      <th></th>\n",
       "      <th></th>\n",
       "      <th></th>\n",
       "    </tr>\n",
       "  </thead>\n",
       "  <tbody>\n",
       "    <tr>\n",
       "      <td>0</td>\n",
       "      <td>56.438356</td>\n",
       "      <td>72.205479</td>\n",
       "      <td>56.512223</td>\n",
       "      <td>72.200179</td>\n",
       "      <td>1.173680</td>\n",
       "      <td>7.176187</td>\n",
       "      <td>13.265940</td>\n",
       "      <td>73</td>\n",
       "      <td>9.640876</td>\n",
       "      <td>73</td>\n",
       "      <td>1274.0</td>\n",
       "      <td>581.671233</td>\n",
       "      <td>0.841056</td>\n",
       "      <td>0</td>\n",
       "      <td>0</td>\n",
       "    </tr>\n",
       "    <tr>\n",
       "      <td>1</td>\n",
       "      <td>55.901961</td>\n",
       "      <td>72.705882</td>\n",
       "      <td>56.234326</td>\n",
       "      <td>72.519093</td>\n",
       "      <td>1.021414</td>\n",
       "      <td>4.981979</td>\n",
       "      <td>13.183280</td>\n",
       "      <td>51</td>\n",
       "      <td>8.058239</td>\n",
       "      <td>51</td>\n",
       "      <td>1711.0</td>\n",
       "      <td>801.549020</td>\n",
       "      <td>0.925846</td>\n",
       "      <td>1</td>\n",
       "      <td>0</td>\n",
       "    </tr>\n",
       "    <tr>\n",
       "      <td>2</td>\n",
       "      <td>57.423077</td>\n",
       "      <td>71.692308</td>\n",
       "      <td>57.613432</td>\n",
       "      <td>71.689450</td>\n",
       "      <td>0.732278</td>\n",
       "      <td>5.153471</td>\n",
       "      <td>13.143643</td>\n",
       "      <td>52</td>\n",
       "      <td>8.136858</td>\n",
       "      <td>52</td>\n",
       "      <td>1828.0</td>\n",
       "      <td>759.942308</td>\n",
       "      <td>0.919928</td>\n",
       "      <td>2</td>\n",
       "      <td>0</td>\n",
       "    </tr>\n",
       "    <tr>\n",
       "      <td>3</td>\n",
       "      <td>58.620000</td>\n",
       "      <td>71.400000</td>\n",
       "      <td>58.695176</td>\n",
       "      <td>71.311405</td>\n",
       "      <td>0.640343</td>\n",
       "      <td>5.068200</td>\n",
       "      <td>12.918318</td>\n",
       "      <td>50</td>\n",
       "      <td>7.978846</td>\n",
       "      <td>50</td>\n",
       "      <td>1330.0</td>\n",
       "      <td>711.100000</td>\n",
       "      <td>0.919826</td>\n",
       "      <td>3</td>\n",
       "      <td>0</td>\n",
       "    </tr>\n",
       "    <tr>\n",
       "      <td>4</td>\n",
       "      <td>58.043478</td>\n",
       "      <td>71.304348</td>\n",
       "      <td>58.357237</td>\n",
       "      <td>71.056031</td>\n",
       "      <td>0.643969</td>\n",
       "      <td>4.857124</td>\n",
       "      <td>12.368630</td>\n",
       "      <td>46</td>\n",
       "      <td>7.653040</td>\n",
       "      <td>46</td>\n",
       "      <td>1737.0</td>\n",
       "      <td>858.217391</td>\n",
       "      <td>0.919668</td>\n",
       "      <td>4</td>\n",
       "      <td>0</td>\n",
       "    </tr>\n",
       "    <tr>\n",
       "      <td>...</td>\n",
       "      <td>...</td>\n",
       "      <td>...</td>\n",
       "      <td>...</td>\n",
       "      <td>...</td>\n",
       "      <td>...</td>\n",
       "      <td>...</td>\n",
       "      <td>...</td>\n",
       "      <td>...</td>\n",
       "      <td>...</td>\n",
       "      <td>...</td>\n",
       "      <td>...</td>\n",
       "      <td>...</td>\n",
       "      <td>...</td>\n",
       "      <td>...</td>\n",
       "      <td>...</td>\n",
       "    </tr>\n",
       "    <tr>\n",
       "      <td>94</td>\n",
       "      <td>62.540000</td>\n",
       "      <td>77.280000</td>\n",
       "      <td>62.557505</td>\n",
       "      <td>77.343844</td>\n",
       "      <td>-1.304702</td>\n",
       "      <td>5.223007</td>\n",
       "      <td>12.306104</td>\n",
       "      <td>50</td>\n",
       "      <td>7.978846</td>\n",
       "      <td>50</td>\n",
       "      <td>1925.0</td>\n",
       "      <td>773.840000</td>\n",
       "      <td>0.905464</td>\n",
       "      <td>94</td>\n",
       "      <td>0</td>\n",
       "    </tr>\n",
       "    <tr>\n",
       "      <td>95</td>\n",
       "      <td>62.773585</td>\n",
       "      <td>77.433962</td>\n",
       "      <td>62.908008</td>\n",
       "      <td>77.392596</td>\n",
       "      <td>-1.319405</td>\n",
       "      <td>5.376178</td>\n",
       "      <td>12.727148</td>\n",
       "      <td>53</td>\n",
       "      <td>8.214724</td>\n",
       "      <td>53</td>\n",
       "      <td>1513.0</td>\n",
       "      <td>706.377358</td>\n",
       "      <td>0.906401</td>\n",
       "      <td>95</td>\n",
       "      <td>0</td>\n",
       "    </tr>\n",
       "    <tr>\n",
       "      <td>96</td>\n",
       "      <td>63.492537</td>\n",
       "      <td>77.746269</td>\n",
       "      <td>63.344697</td>\n",
       "      <td>77.933625</td>\n",
       "      <td>1.488613</td>\n",
       "      <td>6.755307</td>\n",
       "      <td>13.152059</td>\n",
       "      <td>67</td>\n",
       "      <td>9.236182</td>\n",
       "      <td>67</td>\n",
       "      <td>1937.0</td>\n",
       "      <td>719.343284</td>\n",
       "      <td>0.858011</td>\n",
       "      <td>96</td>\n",
       "      <td>0</td>\n",
       "    </tr>\n",
       "    <tr>\n",
       "      <td>97</td>\n",
       "      <td>62.840580</td>\n",
       "      <td>77.840580</td>\n",
       "      <td>62.928491</td>\n",
       "      <td>77.849352</td>\n",
       "      <td>1.087439</td>\n",
       "      <td>7.097650</td>\n",
       "      <td>12.896408</td>\n",
       "      <td>69</td>\n",
       "      <td>9.373021</td>\n",
       "      <td>69</td>\n",
       "      <td>2416.0</td>\n",
       "      <td>812.913043</td>\n",
       "      <td>0.834928</td>\n",
       "      <td>97</td>\n",
       "      <td>0</td>\n",
       "    </tr>\n",
       "    <tr>\n",
       "      <td>98</td>\n",
       "      <td>62.426230</td>\n",
       "      <td>78.065574</td>\n",
       "      <td>62.646122</td>\n",
       "      <td>78.071788</td>\n",
       "      <td>1.227002</td>\n",
       "      <td>5.788834</td>\n",
       "      <td>13.461752</td>\n",
       "      <td>61</td>\n",
       "      <td>8.812923</td>\n",
       "      <td>61</td>\n",
       "      <td>2714.0</td>\n",
       "      <td>984.918033</td>\n",
       "      <td>0.902819</td>\n",
       "      <td>98</td>\n",
       "      <td>0</td>\n",
       "    </tr>\n",
       "  </tbody>\n",
       "</table>\n",
       "<p>99 rows × 15 columns</p>\n",
       "</div>"
      ],
      "text/plain": [
       "               y          x  y_weighted  x_weighted  orientation  \\\n",
       "frame                                                              \n",
       "0      56.438356  72.205479   56.512223   72.200179     1.173680   \n",
       "1      55.901961  72.705882   56.234326   72.519093     1.021414   \n",
       "2      57.423077  71.692308   57.613432   71.689450     0.732278   \n",
       "3      58.620000  71.400000   58.695176   71.311405     0.640343   \n",
       "4      58.043478  71.304348   58.357237   71.056031     0.643969   \n",
       "...          ...        ...         ...         ...          ...   \n",
       "94     62.540000  77.280000   62.557505   77.343844    -1.304702   \n",
       "95     62.773585  77.433962   62.908008   77.392596    -1.319405   \n",
       "96     63.492537  77.746269   63.344697   77.933625     1.488613   \n",
       "97     62.840580  77.840580   62.928491   77.849352     1.087439   \n",
       "98     62.426230  78.065574   62.646122   78.071788     1.227002   \n",
       "\n",
       "       minor_axis_length  major_axis_length  area  equivalent_diameter  \\\n",
       "frame                                                                    \n",
       "0               7.176187          13.265940    73             9.640876   \n",
       "1               4.981979          13.183280    51             8.058239   \n",
       "2               5.153471          13.143643    52             8.136858   \n",
       "3               5.068200          12.918318    50             7.978846   \n",
       "4               4.857124          12.368630    46             7.653040   \n",
       "...                  ...                ...   ...                  ...   \n",
       "94              5.223007          12.306104    50             7.978846   \n",
       "95              5.376178          12.727148    53             8.214724   \n",
       "96              6.755307          13.152059    67             9.236182   \n",
       "97              7.097650          12.896408    69             9.373021   \n",
       "98              5.788834          13.461752    61             8.812923   \n",
       "\n",
       "       filled_area  max_intensity  mean_intensity  eccentricity  frame  \\\n",
       "frame                                                                    \n",
       "0               73         1274.0      581.671233      0.841056      0   \n",
       "1               51         1711.0      801.549020      0.925846      1   \n",
       "2               52         1828.0      759.942308      0.919928      2   \n",
       "3               50         1330.0      711.100000      0.919826      3   \n",
       "4               46         1737.0      858.217391      0.919668      4   \n",
       "...            ...            ...             ...           ...    ...   \n",
       "94              50         1925.0      773.840000      0.905464     94   \n",
       "95              53         1513.0      706.377358      0.906401     95   \n",
       "96              67         1937.0      719.343284      0.858011     96   \n",
       "97              69         2416.0      812.913043      0.834928     97   \n",
       "98              61         2714.0      984.918033      0.902819     98   \n",
       "\n",
       "       particle  \n",
       "frame            \n",
       "0             0  \n",
       "1             0  \n",
       "2             0  \n",
       "3             0  \n",
       "4             0  \n",
       "...         ...  \n",
       "94            0  \n",
       "95            0  \n",
       "96            0  \n",
       "97            0  \n",
       "98            0  \n",
       "\n",
       "[99 rows x 15 columns]"
      ]
     },
     "execution_count": 35,
     "metadata": {},
     "output_type": "execute_result"
    }
   ],
   "source": [
    "f = tp.filter_stubs(t, 10)\n",
    "f.head(99)"
   ]
  },
  {
   "cell_type": "markdown",
   "metadata": {},
   "source": [
    "## Position distribution"
   ]
  },
  {
   "cell_type": "code",
   "execution_count": 118,
   "metadata": {},
   "outputs": [
    {
     "name": "stdout",
     "output_type": "stream",
     "text": [
      "xm = 1; ym = 1\n"
     ]
    }
   ],
   "source": [
    "# Trap center from to mask\n",
    "print(f'xm = {metadata[\"maskX\"]}; '\n",
    "      f'ym = {metadata[\"maskY\"]}')"
   ]
  },
  {
   "cell_type": "code",
   "execution_count": 24,
   "metadata": {},
   "outputs": [],
   "source": [
    "# Adjust trap center if necessary\n",
    "xm = maskW/2\n",
    "ym = maskH/2\n",
    "rm = maskW/2 #rm = radius of the mask"
   ]
  },
  {
   "cell_type": "code",
   "execution_count": 25,
   "metadata": {},
   "outputs": [
    {
     "data": {
      "image/png": "[encoded data removed]",
      "text/plain": [
       "<Figure size 360x360 with 1 Axes>"
      ]
     },
     "metadata": {
      "needs_background": "light"
     },
     "output_type": "display_data"
    }
   ],
   "source": [
    "fig, ax = plt.subplots(1, 1, figsize=(5,5))\n",
    "circle = plt.Circle((0, 0), rm*scale, color='0.75', lw=2, ls='--', fill=False)\n",
    "ax.add_patch(circle)\n",
    "ax.plot((f.x-xm)*scale, (f.y-ym)*scale, 'b.', alpha=0.05, ms=10)\n",
    "ax.set_xlim(-rm*scale, rm*scale)\n",
    "ax.set_ylim(-rm*scale, rm*scale)\n",
    "ax.set_xlabel('x [µm]')\n",
    "ax.set_ylabel('y [µm]')\n",
    "#plt.savefig('Position_Distribution_Overlay.png', dpi=300, bbox_inches='tight', pad_inches=0.025) # transparent=True\n",
    "plt.show()"
   ]
  },
  {
   "cell_type": "markdown",
   "metadata": {},
   "source": [
    "## Step size analysis"
   ]
  },
  {
   "cell_type": "code",
   "execution_count": 36,
   "metadata": {},
   "outputs": [],
   "source": [
    "#f = f.sort_values(['particle', 'frame']) # orting for particel and frame if more than one particel is present"
   ]
  },
  {
   "cell_type": "code",
   "execution_count": 37,
   "metadata": {
    "scrolled": true
   },
   "outputs": [],
   "source": [
    "df = f[['x', 'y', 'particle', 'frame']].diff()\n",
    "df['d'] = np.sqrt((f['x']-xm)**2 + (f['y']-ym)**2) # distance to center\n",
    "# definining unit vectors in radial and tangential direction\n",
    "df['er_x'] = (f['x']-xm)/df['d']\n",
    "df['er_y'] = (f['y']-ym)/df['d']\n",
    "df['et_x'] = (f['y']-ym)/df['d']\n",
    "df['et_y'] = -(f['x']-xm)/df['d']\n",
    "# append orientation\n",
    "df['phi'] = f['orientation']\n",
    "# keep only the deltas of the same particle\n",
    "df = df[df['particle'] == 0]\n",
    "# rename the columns\n",
    "df.rename(columns={'x': 'dx', 'y': 'dy', 'frame': 'dframe'}, inplace=True)"
   ]
  },
  {
   "cell_type": "code",
   "execution_count": 38,
   "metadata": {},
   "outputs": [],
   "source": [
    "# displacement vectors projected onto radial and tangential direction to the trap center\n",
    "df['dr'] = (df['er_x']*df['dx'] + df['er_y']*df['dy'])/df['dframe']\n",
    "df['dt'] = (df['et_x']*df['dx'] + df['et_y']*df['dy'])/df['dframe']"
   ]
  },
  {
   "cell_type": "markdown",
   "metadata": {},
   "source": [
    "## Displacment histograms with respect to the orientation"
   ]
  },
  {
   "cell_type": "code",
   "execution_count": 39,
   "metadata": {},
   "outputs": [],
   "source": [
    "# displacement vectors projected onto the orientation vector\n",
    "df['ds'] = (np.sin(df['phi'])*df['dx'] + np.cos(df['phi'])*df['dy'])/df['dframe']\n",
    "df['dp'] = (-np.cos(df['phi'])*df['dx'] + np.sin(df['phi'])*df['dy'])/df['dframe']"
   ]
  },
  {
   "cell_type": "code",
   "execution_count": 40,
   "metadata": {},
   "outputs": [],
   "source": [
    "ds = np.array(df['ds'])\n",
    "dp = np.array(df['dp'])"
   ]
  },
  {
   "cell_type": "markdown",
   "metadata": {},
   "source": [
    "## Import height- and time-averaged temperature profile"
   ]
  },
  {
   "cell_type": "code",
   "execution_count": 48,
   "metadata": {},
   "outputs": [],
   "source": [
    "xi, t_profile_mean= np.transpose(np.loadtxt(r'C:\\Path to the following txt file\\Temperature_Trap_Height-Time-Average_Profile.txt')) #this is one of two file you get out of the COMSOL calculations"
   ]
  },
  {
   "cell_type": "code",
   "execution_count": 49,
   "metadata": {},
   "outputs": [],
   "source": [
    "def t_profile(r, alpha, t_center):\n",
    "    return alpha/2*r**2 + t_center\n",
    "\n",
    "ri = 5 # µm\n",
    "ro = 6 # µm"
   ]
  },
  {
   "cell_type": "code",
   "execution_count": 54,
   "metadata": {},
   "outputs": [
    {
     "data": {
      "image/png": "[encoded data removed]",
      "text/plain": [
       "<Figure size 324x324 with 1 Axes>"
      ]
     },
     "metadata": {
      "needs_background": "light"
     },
     "output_type": "display_data"
    }
   ],
   "source": [
    "idx = np.where((xi > -3.5) & (xi < 3.5))\n",
    "(alpha_rel, t_ratio), _ = curve_fit(t_profile, xi[idx], t_profile_mean[idx]) #, p0=[800,0,1] \n",
    "\n",
    "fig, ax = plt.subplots(1, 1, figsize=(4.5,4.5))\n",
    "ax.axvline(x=0, c='0.75', ls='--', lw=2)\n",
    "ax.axvline(x=-ri, c='0.75', ls='--', lw=2)\n",
    "ax.axvline(x=-ro, c='0.75', ls='--', lw=2)\n",
    "ax.axvline(x=ri, c='0.75', ls='--', lw=2)\n",
    "ax.axvline(x=ro, c='0.75', ls='--', lw=2)\n",
    "plt.plot(xi, t_profile_mean, 'b', label='Time-Averaged')\n",
    "ax.plot(xi, t_profile(xi, alpha_rel, t_ratio), c='b', ls='--')\n",
    "ax.set_xlabel(r'$x$ [µm]')\n",
    "ax.set_ylabel(r'$\\Delta T/\\Delta T_\\mathrm{max}$ [K]')\n",
    "ax.set_xlim(-10,10)\n",
    "ax.set_ylim(0, 1.5);"
   ]
  },
  {
   "cell_type": "code",
   "execution_count": 120,
   "metadata": {},
   "outputs": [
    {
     "name": "stdout",
     "output_type": "stream",
     "text": [
      "t_ratio = 0.56\n"
     ]
    }
   ],
   "source": [
    "print(f't_ratio = {t_ratio:.2}') # t_ratio = t_center/t_max"
   ]
  },
  {
   "cell_type": "code",
   "execution_count": 122,
   "metadata": {},
   "outputs": [
    {
     "name": "stdout",
     "output_type": "stream",
     "text": [
      "alpha_rel = 0.018 1/µm\n"
     ]
    }
   ],
   "source": [
    "print(f'alpha_rel = {alpha_rel:.2} 1/µm')"
   ]
  },
  {
   "cell_type": "markdown",
   "metadata": {},
   "source": [
    "## Radial position distribution"
   ]
  },
  {
   "cell_type": "code",
   "execution_count": 57,
   "metadata": {},
   "outputs": [],
   "source": [
    "d = np.array(df['d'])"
   ]
  },
  {
   "cell_type": "markdown",
   "metadata": {},
   "source": [
    "$P_\\mathrm{R}(d) = S_\\mathrm{T}\\alpha\\,d\\,\\mathrm{exp}\\left(-\\dfrac{S_\\mathrm{T}\\alpha}{2}d^2\\right) \\qquad \\sigma^2 = 1/S_\\mathrm{T}\\alpha$"
   ]
  },
  {
   "cell_type": "code",
   "execution_count": 83,
   "metadata": {},
   "outputs": [
    {
     "data": {
      "image/png": "[encoded data removed]",
      "text/plain": [
       "<Figure size 378x360 with 2 Axes>"
      ]
     },
     "metadata": {
      "needs_background": "light"
     },
     "output_type": "display_data"
    }
   ],
   "source": [
    "fig, ax1 = plt.subplots(1, 1, figsize=(5.25,5))\n",
    "\n",
    "# Histogram\n",
    "bins = np.linspace(0,5,num=20)\n",
    "hist_d, bin_edges = np.histogram(scale*d, bins = bins, density=True) #Density instead of normed since its decrepated\n",
    "\n",
    "# Rayleigh fit\n",
    "(a, sigma), _ = curve_fit(rayleigh, centers, hist_d) #, p0=[800,0,1]\n",
    "fit_x = np.linspace(0, 5, 100)\n",
    "fit_y = rayleigh(fit_x, a, sigma)\n",
    "\n",
    "ax1.plot(centers, hist_d, 'o', c='k', alpha=0.25)\n",
    "ax1.plot(fit_x, fit_y, 'k--', label='Rayleigh Dist.')\n",
    "\n",
    "ax1.set_xlabel('Distance to Center [µm]')\n",
    "ax1.set_ylabel('Probability')\n",
    "ax1.set_xlim(0, 5)\n",
    "ax1.set_ylim(0, 0.8)\n",
    "#ax.legend()\n",
    "\n",
    "# Temperature profile\n",
    "ax2 = ax1.twinx()\n",
    "ax2.plot(xi, t_profile(xi, alpha_rel, t_ratio), '--', c='k', alpha=0.2)\n",
    "ax2.plot(xi, t_profile_mean, '-', c='k', alpha=0.2)\n",
    "ax2.set_ylim(0.56, 1.0)\n",
    "ax2.set_ylabel('$\\Delta T/T_\\mathrm{max}$', color='0.5')\n",
    "\n",
    "ax2.spines['right'].set_color('0.5')\n",
    "ax2.tick_params('y', colors='0.5')\n",
    "ax1.spines['right'].set_color('0.5')\n",
    "ax2.spines['right'].set_color('0.5')\n",
    "\n",
    "plt.show()"
   ]
  },
  {
   "cell_type": "markdown",
   "metadata": {},
   "source": [
    "### Temperature increment from experiments\n",
    "\n",
    "See the Supplementary Note 4 for details."
   ]
  },
  {
   "cell_type": "code",
   "execution_count": 131,
   "metadata": {},
   "outputs": [
    {
     "name": "stdout",
     "output_type": "stream",
     "text": [
      "t_max = 20.0 K\n",
      "alpha = 0.36 K/µm^2\n"
     ]
    }
   ],
   "source": [
    "t_center = 11.3\n",
    "t_max = t_center/t_ratio\n",
    "alpha = alpha_rel*t_max\n",
    "print(f't_max = {t_max:.1f} K')\n",
    "print(f'alpha = {alpha:.2} K/µm^2')"
   ]
  },
  {
   "cell_type": "markdown",
   "metadata": {},
   "source": [
    "### Soret coefficient from curvature"
   ]
  },
  {
   "cell_type": "markdown",
   "metadata": {},
   "source": [
    "$S_\\mathrm{T} = 1/(\\sigma^2\\alpha)$"
   ]
  },
  {
   "cell_type": "code",
   "execution_count": 135,
   "metadata": {},
   "outputs": [
    {
     "name": "stdout",
     "output_type": "stream",
     "text": [
      "ST = 286.381 1/K\n"
     ]
    }
   ],
   "source": [
    "ST = 1/(sigma**2*alpha)\n",
    "print('ST = %.3f 1/K' % (ST))"
   ]
  },
  {
   "cell_type": "markdown",
   "metadata": {},
   "source": [
    "## Step size distribution in radial and tangential direction"
   ]
  },
  {
   "cell_type": "code",
   "execution_count": 87,
   "metadata": {},
   "outputs": [],
   "source": [
    "dr = np.array(df['dr'])\n",
    "dt = np.array(df['dt'])"
   ]
  },
  {
   "cell_type": "code",
   "execution_count": 90,
   "metadata": {},
   "outputs": [
    {
     "data": {
      "image/png": "[encoded data removed]",
      "text/plain": [
       "<Figure size 504x360 with 1 Axes>"
      ]
     },
     "metadata": {
      "needs_background": "light"
     },
     "output_type": "display_data"
    }
   ],
   "source": [
    "fig, ax = plt.subplots(1, 1, figsize=(7,5))\n",
    "bins = np.linspace(-1,1,25)\n",
    "hist_dp, bin_edges = np.histogram(dr*scale, bins=bins, density=True)\n",
    "hist_dt, _ = np.histogram(dt*scale, bins=bins, density=True)\n",
    "centers = 0.5*(bin_edges[1:] + bin_edges[:-1])\n",
    "\n",
    "(a_s, x0_s, sigma_s), _ = curve_fit(gauss, centers, hist_dp) #, p0=[800,0,1]\n",
    "fit_x = np.linspace(centers.min(), centers.max(), 100)\n",
    "fit_y = gauss(fit_x, a_s, x0_s, sigma_s)\n",
    "ax.plot(centers, hist_dp, 's', c='b', label='$\\Delta\\,r_\\mathrm{r}$', alpha=0.35)\n",
    "ax.plot(fit_x, fit_y, 'b--')\n",
    "\n",
    "(a_p, x0_p, sigma_p), _ = curve_fit(gauss, centers, hist_dt) #, p0=[800,0,1]\n",
    "fit_x = np.linspace(centers.min(), centers.max(), 100)\n",
    "fit_y = gauss(fit_x, a_p, x0_p, sigma_p)\n",
    "\n",
    "ax.plot(centers, hist_dt, 'o', c='r', label='$\\Delta\\,r_\\mathrm{t}$', alpha=0.35)\n",
    "ax.plot(fit_x, fit_y, c='r', ls='--')\n",
    "\n",
    "ax.set_yscale('log')\n",
    "#ax.set_ylim(ymin=0)\n",
    "ax.axvline(0, c='k', ls='-', lw=1)\n",
    "ax.set_ylim(0.1, 5)\n",
    "ax.set_xlim(-0.5,0.5)\n",
    "ax.set_xlabel('Step Size [µm]')\n",
    "ax.set_ylabel('Probability')\n",
    "#ax.get_yaxis().set_ticks([])\n",
    "ax.legend();\n",
    "#plt.savefig('Radial_Tangential_Probability.pdf', bbox_inches='tight', pad_inches=0.025)"
   ]
  },
  {
   "cell_type": "code",
   "execution_count": 2,
   "metadata": {},
   "outputs": [
    {
     "ename": "NameError",
     "evalue": "name 'x0_s' is not defined",
     "output_type": "error",
     "traceback": [
      "\u001b[1;31m---------------------------------------------------------------------------\u001b[0m",
      "\u001b[1;31mNameError\u001b[0m                                 Traceback (most recent call last)",
      "\u001b[1;32m<ipython-input-2-32e097855f5e>\u001b[0m in \u001b[0;36m<module>\u001b[1;34m\u001b[0m\n\u001b[1;32m----> 1\u001b[1;33m \u001b[0mprint\u001b[0m\u001b[1;33m(\u001b[0m\u001b[1;34mf'vT = {x0_s/exposure} µm/s'\u001b[0m\u001b[1;33m)\u001b[0m \u001b[1;31m#Is the speed of the particle towards the center, induced by the Laser\u001b[0m\u001b[1;33m\u001b[0m\u001b[1;33m\u001b[0m\u001b[0m\n\u001b[0m",
      "\u001b[1;31mNameError\u001b[0m: name 'x0_s' is not defined"
     ]
    }
   ],
   "source": [
    "print(f'vT = {x0_s/exposure} µm/s') #Is the speed of the particle towards the center, induced by the Laser"
   ]
  },
  {
   "cell_type": "markdown",
   "metadata": {},
   "source": [
    "### Diffusion constant $D_\\mathrm{t}$ from  tangential step size distribution"
   ]
  },
  {
   "cell_type": "code",
   "execution_count": 94,
   "metadata": {},
   "outputs": [
    {
     "data": {
      "image/png": "[encoded data removed]",
      "text/plain": [
       "<Figure size 504x360 with 1 Axes>"
      ]
     },
     "metadata": {
      "needs_background": "light"
     },
     "output_type": "display_data"
    }
   ],
   "source": [
    "fig, ax = plt.subplots(1, 1, figsize=(7,5))\n",
    "\n",
    "# Histograms\n",
    "nbins = 25\n",
    "bins = np.linspace(-1,1,nbins)\n",
    "hist_dt, bin_edges = np.histogram(dt*scale, bins=bins, density=True)\n",
    "hist_ds, _ = np.histogram(ds*scale, bins=bins, density=True)\n",
    "hist_dp, _ = np.histogram(dp*scale, bins=bins, density=True)\n",
    "centers = 0.5*(bin_edges[1:] + bin_edges[:-1])\n",
    "\n",
    "# Fits\n",
    "(a, x0, sigma), _ = curve_fit(gauss, centers, hist_dt) #, p0=[800,0,1]\n",
    "fit_x = np.linspace(centers.min(), centers.max(), 100)\n",
    "fit_y = gauss(fit_x, a, x0, sigma)\n",
    "ax.plot(fit_x, fit_y, 'k--')\n",
    "ax.plot(centers, hist_dt, 'o', c='k', label='$\\Delta\\,r_\\mathrm{t}$', alpha=0.35)\n",
    "\n",
    "(a_s, x0_s, sigma_s), _ = curve_fit(gauss, centers, hist_ds, p0=[1,0,1]) #, p0=[800,0,1]\n",
    "fit_x = np.linspace(centers.min(), centers.max(), 100)\n",
    "fit_y = gauss(fit_x, a_s, x0_s, sigma_s)\n",
    "ax.plot(fit_x, fit_y, 'b--')\n",
    "ax.plot(centers, hist_ds, 's', c='b', label='$\\Delta\\,r_\\mathrm{t}^\\perp$', alpha=0.35)\n",
    "\n",
    "(a_p, x0_p, sigma_p), _ = curve_fit(gauss, centers, hist_dp, p0=[1,0,1]) #, p0=[800,0,1]\n",
    "fit_x = np.linspace(centers.min(), centers.max(), 100)\n",
    "fit_y = gauss(fit_x, a_p, x0_p, sigma_p)\n",
    "ax.plot(fit_x, fit_y, c='r', ls='--')\n",
    "ax.plot(centers, hist_dp, 'v', c='r', label='$\\Delta\\,r_\\mathrm{t}^\\parallel$',  alpha=0.35)\n",
    "\n",
    "ax.axvline(0, c='k', ls='-', lw=1)\n",
    "ax.set_xlim(-0.5,0.5)\n",
    "ax.set_xlabel('Step Size [µm]')\n",
    "ax.set_ylim(ymin=0)\n",
    "ax.set_ylabel('Probability')\n",
    "#ax.get_yaxis().set_ticks([])\n",
    "ax.legend()\n",
    "#plt.savefig('../Figures/Step_Size_Translation.pdf', bbox_inches='tight', pad_inches=0.0)\n",
    "plt.show()"
   ]
  },
  {
   "cell_type": "markdown",
   "metadata": {},
   "source": [
    "$D_\\mathrm{t} = \\sigma^2/(2\\tau)$"
   ]
  },
  {
   "cell_type": "code",
   "execution_count": 100,
   "metadata": {},
   "outputs": [
    {
     "name": "stdout",
     "output_type": "stream",
     "text": [
      "Dt = 0.491 µm^2/s\n"
     ]
    }
   ],
   "source": [
    "Dt = sigma**2/(2*exposure)\n",
    "print(f'Dt = {Dt:.3} µm^2/s')"
   ]
  },
  {
   "cell_type": "code",
   "execution_count": 102,
   "metadata": {},
   "outputs": [
    {
     "name": "stdout",
     "output_type": "stream",
     "text": [
      "Dt_p = 0.696 µm^2/s\n",
      "Dt_s = 0.338 µm^2/s\n"
     ]
    }
   ],
   "source": [
    "Dt_p = sigma_p**2/(2*exposure)\n",
    "print(f'Dt_p = {Dt_p:.3} µm^2/s')\n",
    "\n",
    "Dt_s = sigma_s**2/(2*exposure)\n",
    "print(f'Dt_s = {Dt_s:.3} µm^2/s')"
   ]
  },
  {
   "cell_type": "code",
   "execution_count": 103,
   "metadata": {},
   "outputs": [
    {
     "name": "stdout",
     "output_type": "stream",
     "text": [
      "Dt_s/Dt_p = 0.486\n"
     ]
    }
   ],
   "source": [
    "print(f'Dt_s/Dt_p = {Dt_s/Dt_p:.3}')"
   ]
  },
  {
   "cell_type": "code",
   "execution_count": 104,
   "metadata": {},
   "outputs": [
    {
     "name": "stdout",
     "output_type": "stream",
     "text": [
      "DT = 0.2722913296254022 µm^2/(K s)\n"
     ]
    }
   ],
   "source": [
    "DT = ST*Dt\n",
    "print(f'DT = {DT} µm^2/(K s)')"
   ]
  },
  {
   "cell_type": "markdown",
   "metadata": {},
   "source": [
    "## Drift velocity analyzed for different distances to the center"
   ]
  },
  {
   "cell_type": "code",
   "execution_count": 143,
   "metadata": {},
   "outputs": [
    {
     "data": {
      "image/png": "[encoded data removed]",
      "text/plain": [
       "<Figure size 504x360 with 2 Axes>"
      ]
     },
     "metadata": {
      "needs_background": "light"
     },
     "output_type": "display_data"
    }
   ],
   "source": [
    "fig, ax1 = plt.subplots(1, 1, figsize=(7,5))\n",
    "bins = 6\n",
    "x = np.linspace(0,5,100)\n",
    "y = DT*alpha*x\n",
    "bin_means_dr, bin_edges, _ = stats.binned_statistic(scale*d, scale*dr, statistic='mean', bins=bins)\n",
    "bin_means_dt, bin_edges, _ = stats.binned_statistic(scale*d, scale*dt, statistic='mean', bins=bins)\n",
    "centers = 0.5*(bin_edges[1:] + bin_edges[:-1])\n",
    "ax1.plot(x, y, 'b--', label=r'$D_\\mathrm{T}\\,\\nabla T$', alpha=1)\n",
    "ax1.plot(centers, bin_means_dr/exposure, 'bo-', alpha=1, label='$(v_\\mathrm{T})_\\mathrm{r}$')\n",
    "ax1.plot(centers, bin_means_dt/exposure, 'ro-', alpha=1, label='$(v_\\mathrm{T})_\\mathrm{t}$')\n",
    "ax1.axhline(0, c='k', ls='-', lw=1)\n",
    "ax1.set_xlabel('Distance to Center [µm]')\n",
    "ax1.set_xlim(0, 7.5)\n",
    "ax1.set_ylabel('Drift Velocity $v_\\mathrm{T}$ [µm/s]')\n",
    "#ax.set_yticks(np.arange(-0.5, 2, 0.5))\n",
    "ax1.set_ylim(-1, 2.5)\n",
    "ax1.legend(loc='upper left') \n",
    "\n",
    "ax2 = ax1.twinx()\n",
    "ax2.plot(xi, t_profile(xi, 0.019, 0.56), '--', c='k', alpha=0.2)\n",
    "ax2.plot(xi, t_profile_mean, '-', c='k', alpha=0.2)\n",
    "ax2.set_ylim(0.40, 1.0)\n",
    "ax2.set_ylabel('$\\Delta T/T_\\mathrm{max}$', color='0.5')\n",
    "\n",
    "ax2.spines['right'].set_color('0.5')\n",
    "ax2.tick_params('y', colors='0.5')\n",
    "ax1.spines['right'].set_color('0.5')\n",
    "ax2.spines['right'].set_color('0.5')\n",
    "\n",
    "#plt.savefig('Drift_Velocity.pdf', bbox_inches='tight', pad_inches=0.025)\n",
    "plt.show()"
   ]
  },
  {
   "cell_type": "markdown",
   "metadata": {},
   "source": [
    "## Rotational diffusion"
   ]
  },
  {
   "cell_type": "code",
   "execution_count": 137,
   "metadata": {},
   "outputs": [],
   "source": [
    "dphi = np.array(f[['orientation']].diff().dropna())"
   ]
  },
  {
   "cell_type": "code",
   "execution_count": 139,
   "metadata": {},
   "outputs": [
    {
     "data": {
      "image/png": "[encoded data removed]",
      "text/plain": [
       "<Figure size 504x360 with 1 Axes>"
      ]
     },
     "metadata": {
      "needs_background": "light"
     },
     "output_type": "display_data"
    }
   ],
   "source": [
    "fig, ax = plt.subplots(1, 1, figsize=(7,5))\n",
    "\n",
    "# histogram\n",
    "bins = np.linspace(-pi/2,pi/2,50)\n",
    "hist_dphi, bin_edges = np.histogram(dphi, bins=bins, density=True)\n",
    "centers = 0.5*(bin_edges[1:] + bin_edges[:-1])\n",
    "\n",
    "# fit\n",
    "(a, x0, sigma), _ = curve_fit(gauss, centers, hist_dphi) #, p0=[800,0,1]\n",
    "fit_x = np.linspace(bins.min(), bins.max(), 100)\n",
    "fit_y = gauss(fit_x, a, x0, sigma)\n",
    "\n",
    "ax.plot(fit_x, fit_y, '--', c='k')\n",
    "ax.plot(centers, hist_dphi, 'o', c='k', alpha=0.35, label='$\\Delta\\phi$') # /np.max(hist_dphi)\n",
    "\n",
    "ax.axvline(0, c='k', ls='-', lw=1)\n",
    "ax.set_xlim(bins.min(), bins.max())\n",
    "ax.set_ylim(ymin=0)\n",
    "ax.set_xticks([-0.5*np.pi, -0.25*np.pi, 0, 0.25*np.pi, 0.5*np.pi])\n",
    "ax.set_xticklabels(['$-\\pi/2$', '$-\\pi/4$', '0', '$\\pi/4$', '$\\pi/2$'])\n",
    "ax.set_xlabel('Step Size [rad]')\n",
    "ax.set_ylabel('Probability')\n",
    "#ax.get_yaxis().set_ticks([])\n",
    "ax.legend()\n",
    "#plt.savefig('../Figures/Step_Size_Rotation.pdf', bbox_inches='tight', pad_inches=0.025)\n",
    "plt.show()"
   ]
  },
  {
   "cell_type": "markdown",
   "metadata": {},
   "source": [
    "$D_\\mathrm{r} = \\sigma^2/(2\\tau)$"
   ]
  },
  {
   "cell_type": "code",
   "execution_count": 141,
   "metadata": {},
   "outputs": [
    {
     "name": "stdout",
     "output_type": "stream",
     "text": [
      "Dr = 2.767 rad^2/s\n"
     ]
    }
   ],
   "source": [
    "Dr_exp = sigma**2/(2*exposure)\n",
    "print(f'Dr = {Dr_exp:.3f} rad^2/s')"
   ]
  }
 ],
 "metadata": {
  "anaconda-cloud": {},
  "kernelspec": {
   "display_name": "Python 3",
   "language": "python",
   "name": "python3"
  },
  "language_info": {
   "codemirror_mode": {
    "name": "ipython",
    "version": 3
   },
   "file_extension": ".py",
   "mimetype": "text/x-python",
   "name": "python",
   "nbconvert_exporter": "python",
   "pygments_lexer": "ipython3",
   "version": "3.7.4"
  },
  "varInspector": {
   "cols": {
    "lenName": 16,
    "lenType": 16,
    "lenVar": 40
   },
   "kernels_config": {
    "python": {
     "delete_cmd_postfix": "",
     "delete_cmd_prefix": "del ",
     "library": "var_list.py",
     "varRefreshCmd": "print(var_dic_list())"
    },
    "r": {
     "delete_cmd_postfix": ") ",
     "delete_cmd_prefix": "rm(",
     "library": "var_list.r",
     "varRefreshCmd": "cat(var_dic_list()) "
    }
   },
   "types_to_exclude": [
    "module",
    "function",
    "builtin_function_or_method",
    "instance",
    "_Feature"
   ],
   "window_display": false
  }
 },
 "nbformat": 4,
 "nbformat_minor": 4
}
